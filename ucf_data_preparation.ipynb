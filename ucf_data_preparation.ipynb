{
 "cells": [
  {
   "cell_type": "code",
   "execution_count": null,
   "metadata": {},
   "outputs": [],
   "source": [
    "import torch\n",
    "import torch.nn as nn\n",
    "import torch.optim as optim\n",
    "from torch.optim import lr_scheduler\n",
    "from torch.autograd import Variable\n",
    "import numpy as np\n",
    "import torchvision\n",
    "from torchvision import datasets, models, transforms\n",
    "import matplotlib.pyplot as plt\n",
    "import glob\n",
    "import os\n",
    "from skimage.transform import resize\n",
    "import cv2\n",
    "import math\n",
    "import shutil"
   ]
  },
  {
   "cell_type": "code",
   "execution_count": null,
   "metadata": {},
   "outputs": [],
   "source": [
    "ucf_train_data_path = \"UCF-101/Train\"\n",
    "ucf_test_data_path = \"UCF-101/Test\"\n",
    "\n",
    "test_folders = [folder for folder in glob.glob(ucf_test_data_path+\"/*\")]\n",
    "\n",
    "for class_folders in test_folders:\n",
    "    class_videos = [video for video in glob.glob(class_folders+\"/*\")]\n",
    "    l = 1\n",
    "    for videos in class_videos:\n",
    "        #print(videos[13:])\n",
    "        i = videos[13:].find(\"\\\\\")\n",
    "        folder = videos[13:i+13]\n",
    "        sub = str(l)\n",
    "        video_to_frames(videos,\"Test\",folder,sub)\n",
    "        l += 1\n",
    "        \n",
    "\n",
    "        \n",
    "    \n",
    "    "
   ]
  },
  {
   "cell_type": "code",
   "execution_count": null,
   "metadata": {},
   "outputs": [],
   "source": [
    "for i in glob.glob(ucf_train_data_path+\"/*\"):\n",
    "    print(i)\n",
    "for i in glob.glob(ucf_train_data_path+\"/*\"):\n",
    "    print(i)"
   ]
  },
  {
   "cell_type": "code",
   "execution_count": null,
   "metadata": {},
   "outputs": [],
   "source": [
    "def video_to_frames(video_file,tr_or_test,folder,sub):\n",
    "    os.makedirs(\"Frames/\"+tr_or_test+\"/\"+folder+\"/\"+sub,exist_ok=True)\n",
    "    count = 0\n",
    "    cap = cv2.VideoCapture(video_file)\n",
    "    frameRate = cap.get(5)\n",
    "    while(cap.isOpened()):\n",
    "        frameId = cap.get(1) #current frame number\n",
    "        ret, frame = cap.read()\n",
    "        if (ret != True):\n",
    "            break\n",
    "        if (frameId % math.floor(frameRate) == 0):\n",
    "            filename = \"Frames/\"+tr_or_test+\"/\"+folder+\"/\"+sub+\"/frame%d.jpg\" % count\n",
    "            count+=1\n",
    "            cv2.imwrite(filename, frame)\n",
    "    cap.release()"
   ]
  },
  {
   "cell_type": "code",
   "execution_count": null,
   "metadata": {},
   "outputs": [],
   "source": [
    "def move_videos():\n",
    "    train_split = \"UCF101TrainTest/lists/trainlist01.txt\"\n",
    "    test_split = \"UCF101TrainTest/lists/testlist01.txt\"\n",
    "    \n",
    "    \"\"\"with open(train_split,\"r\") as train:\n",
    "        for line in train:\n",
    "            video = line[:-3]\n",
    "            index = video.find(\"/\")\n",
    "            foldername, videoname = video[:index], video[index+1:]\n",
    "            print(foldername)\n",
    "            print(videoname)\n",
    "            os.makedirs(\"UCF-101/Train/\"+foldername,exist_ok=True)\n",
    "            src = \"UCF-101/\"+foldername+\"/\"+videoname\n",
    "            dest = \"UCF-101/Train/\"+foldername+\"/\"+videoname\n",
    "            try:\n",
    "                shutil.move(src,dest)\n",
    "            except Exception as e:\n",
    "                print(e)\"\"\"\n",
    "    with open(test_split,\"r\") as test:\n",
    "        for line in test:\n",
    "            video = line[:-1]\n",
    "            index = video.find(\"/\")\n",
    "            foldername, videoname = video[:index], video[index+1:]\n",
    "            #print(foldername)\n",
    "            #print(videoname)\n",
    "            os.makedirs(\"UCF-101/Test/\"+foldername,exist_ok=True)\n",
    "            src = \"UCF-101/\"+foldername+\"/\"+videoname\n",
    "            dest = \"UCF-101/Test/\"+foldername+\"/\"+videoname\n",
    "            try:\n",
    "                shutil.move(src,dest)\n",
    "            except Exception as e:\n",
    "                print(e)\n",
    "        "
   ]
  },
  {
   "cell_type": "code",
   "execution_count": null,
   "metadata": {},
   "outputs": [],
   "source": [
    "move_videos()"
   ]
  },
  {
   "cell_type": "code",
   "execution_count": null,
   "metadata": {},
   "outputs": [],
   "source": []
  }
 ],
 "metadata": {
  "kernelspec": {
   "display_name": "Python 3",
   "language": "python",
   "name": "python3"
  },
  "language_info": {
   "codemirror_mode": {
    "name": "ipython",
    "version": 3
   },
   "file_extension": ".py",
   "mimetype": "text/x-python",
   "name": "python",
   "nbconvert_exporter": "python",
   "pygments_lexer": "ipython3",
   "version": "3.5.5"
  }
 },
 "nbformat": 4,
 "nbformat_minor": 2
}
