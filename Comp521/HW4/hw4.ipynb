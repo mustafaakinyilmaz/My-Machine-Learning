{
 "cells": [
  {
   "cell_type": "code",
   "execution_count": 1,
   "metadata": {},
   "outputs": [],
   "source": [
    "import pandas as pd\n",
    "import numpy as np\n",
    "import matplotlib.pyplot as plt"
   ]
  },
  {
   "cell_type": "code",
   "execution_count": 2,
   "metadata": {},
   "outputs": [],
   "source": [
    "dataset = pd.read_csv(\"hw04_data_set.csv\").values\n",
    "X_train,X_test = dataset[:100,0],dataset[100:,0]\n",
    "Y_train,Y_test = dataset[:100,1],dataset[100:,1]"
   ]
  },
  {
   "cell_type": "code",
   "execution_count": 3,
   "metadata": {},
   "outputs": [],
   "source": [
    "# REGRESSOGRAM ---> Origin=0, Bin_width=3\n",
    "\n",
    "bin_width = 3\n",
    "origin = 0\n",
    "max_value = 60\n",
    "left_bounds = np.arange(origin,max_value,bin_width)\n",
    "right_bounds = np.arange(origin+bin_width,max_value+bin_width,bin_width)"
   ]
  },
  {
   "cell_type": "code",
   "execution_count": 4,
   "metadata": {},
   "outputs": [
    {
     "data": {
      "image/png": "[encoded data removed]",
      "text/plain": [
       "<Figure size 432x288 with 1 Axes>"
      ]
     },
     "metadata": {
      "needs_background": "light"
     },
     "output_type": "display_data"
    }
   ],
   "source": [
    "def compute_g_hat():\n",
    "    g_hat = []\n",
    "    for b in range(len(left_bounds)):\n",
    "        n = (Y_train*(left_bounds[b] < X_train)*(X_train <= right_bounds[b])).sum()\n",
    "        d = ((left_bounds[b] < X_train)*(X_train <= right_bounds[b])).sum()\n",
    "        \n",
    "        g_hat.append(n/d)\n",
    "    \n",
    "    return g_hat\n",
    "\n",
    "g_hat = compute_g_hat()\n",
    "\n",
    "x_t = []\n",
    "y_t = []\n",
    "for b in range(len(left_bounds)):\n",
    "    x_t.append(left_bounds[b])\n",
    "    x_t.append(right_bounds[b])\n",
    "    y_t.append(g_hat[b])\n",
    "    y_t.append(g_hat[b])\n",
    "    \n",
    "plt.plot(X_train,Y_train,\".\",color=\"blue\",label=\"Train\")\n",
    "plt.plot(X_test,Y_test,'.',color=\"red\",label=\"Test\")\n",
    "plt.plot(x_t,y_t,'-',color=\"black\")\n",
    "plt.legend()\n",
    "plt.savefig(\"regressogram.png\")"
   ]
  },
  {
   "cell_type": "code",
   "execution_count": 5,
   "metadata": {},
   "outputs": [
    {
     "name": "stdout",
     "output_type": "stream",
     "text": [
      "24.725997719599924\n"
     ]
    }
   ],
   "source": [
    "Y_test_hat = np.zeros((len(Y_test)))\n",
    "for i in range(len(Y_test)):\n",
    "    for j in range(len(left_bounds)):\n",
    "        if (left_bounds[j] < X_test[i]) and X_test[i] <= right_bounds[j]:\n",
    "            Y_test_hat[i] = g_hat[j]\n",
    "\n",
    "RMSE = ((((Y_test_hat - Y_test)**2).sum())/len(Y_test))**0.5\n",
    "print(RMSE)"
   ]
  },
  {
   "cell_type": "code",
   "execution_count": 6,
   "metadata": {},
   "outputs": [],
   "source": [
    "# RUNNING MEAN SMOOTHER\n",
    "min_value = 0\n",
    "max_value = 60\n",
    "bin_width = 3\n",
    "data_interval = np.arange(min_value+bin_width/2,max_value+0.01-bin_width/2,0.01)\n"
   ]
  },
  {
   "cell_type": "code",
   "execution_count": 7,
   "metadata": {},
   "outputs": [],
   "source": [
    "def compute_g2_hat(data_interval):\n",
    "    g2_hat = []\n",
    "    for i in data_interval:\n",
    "        n = (Y_train*((i-0.5*bin_width) < X_train)*(X_train <= i+0.5*bin_width)).sum()\n",
    "        d = (((i-0.5*bin_width) < X_train)*(X_train <= i+0.5*bin_width)).sum()\n",
    "\n",
    "        g2_hat.append(n/d)\n",
    "        \n",
    "    return g2_hat\n",
    "\n",
    "g2_hat = compute_g2_hat(data_interval)"
   ]
  },
  {
   "cell_type": "code",
   "execution_count": 8,
   "metadata": {},
   "outputs": [
    {
     "data": {
      "image/png": "[encoded data removed]",
      "text/plain": [
       "<Figure size 432x288 with 1 Axes>"
      ]
     },
     "metadata": {
      "needs_background": "light"
     },
     "output_type": "display_data"
    }
   ],
   "source": [
    "plt.plot(X_train,Y_train,\".\",color=\"blue\",label=\"Train\")\n",
    "plt.plot(X_test,Y_test,\".\",color=\"red\",label=\"Test\")\n",
    "plt.plot(data_interval,g2_hat,color=\"black\")\n",
    "plt.legend()\n",
    "plt.savefig(\"running_mean_smoother.png\")"
   ]
  },
  {
   "cell_type": "code",
   "execution_count": 9,
   "metadata": {},
   "outputs": [],
   "source": [
    "def compute_Y_test_hat():\n",
    "    Y_test_hat = []\n",
    "    for i in X_test:\n",
    "        n = (Y_train*((i-0.5*bin_width) < X_train)*(X_train <= i+0.5*bin_width)).sum()\n",
    "        d = (((i-0.5*bin_width) < X_train)*(X_train <= i+0.5*bin_width)).sum()\n",
    "        Y_test_hat.append(n/d)\n",
    "    return Y_test_hat"
   ]
  },
  {
   "cell_type": "code",
   "execution_count": 10,
   "metadata": {},
   "outputs": [
    {
     "name": "stdout",
     "output_type": "stream",
     "text": [
      "23.840322905172517\n"
     ]
    }
   ],
   "source": [
    "Y_test_hat = compute_Y_test_hat()\n",
    "RMSE = ((((Y_test_hat - Y_test)**2).sum())/len(Y_test))**0.5\n",
    "print(RMSE)"
   ]
  },
  {
   "cell_type": "code",
   "execution_count": 11,
   "metadata": {},
   "outputs": [],
   "source": [
    "# KERNEL SMOOTHER\n",
    "min_value = 0\n",
    "max_value = 60\n",
    "bin_width = 1\n",
    "data_interval = np.arange(min_value+bin_width/2,max_value+0.01-bin_width/2,0.01)\n",
    "\n"
   ]
  },
  {
   "cell_type": "code",
   "execution_count": 12,
   "metadata": {},
   "outputs": [],
   "source": [
    "def compute_g3_hat(data_interval):\n",
    "    g3_hat = []\n",
    "    for i in data_interval:\n",
    "        n = (Y_train*(1/np.sqrt(2*np.pi))*np.exp(-0.5*((i-X_train)**2)/(bin_width**2))).sum()\n",
    "        d = ((1/np.sqrt(2*np.pi))*np.exp(-0.5*((i-X_train)**2)/(bin_width**2))).sum()\n",
    "        g3_hat.append(n/d)\n",
    "    return g3_hat\n",
    "g3_hat = compute_g3_hat(data_interval)"
   ]
  },
  {
   "cell_type": "code",
   "execution_count": 13,
   "metadata": {},
   "outputs": [
    {
     "data": {
      "image/png": "[encoded data removed]",
      "text/plain": [
       "<Figure size 432x288 with 1 Axes>"
      ]
     },
     "metadata": {
      "needs_background": "light"
     },
     "output_type": "display_data"
    }
   ],
   "source": [
    "plt.plot(X_train,Y_train,\".\",color=\"blue\",label=\"Train\")\n",
    "plt.plot(X_test,Y_test,\".\",color=\"red\",label=\"Test\")\n",
    "plt.plot(data_interval,g3_hat,color=\"black\")\n",
    "plt.legend()\n",
    "plt.savefig(\"kernel_smoother.png\")"
   ]
  },
  {
   "cell_type": "code",
   "execution_count": 14,
   "metadata": {},
   "outputs": [],
   "source": [
    "def compute_Y_test_hat():\n",
    "    Y_test_hat = []\n",
    "    for i in X_test:\n",
    "        n = (Y_train*(1/np.sqrt(2*np.pi))*np.exp(-0.5*((i-X_train)**2)/(bin_width**2))).sum()\n",
    "        d = ((1/np.sqrt(2*np.pi))*np.exp(-0.5*((i-X_train)**2)/(bin_width**2))).sum()\n",
    "        Y_test_hat.append(n/d)\n",
    "    return Y_test_hat"
   ]
  },
  {
   "cell_type": "code",
   "execution_count": 15,
   "metadata": {},
   "outputs": [
    {
     "name": "stdout",
     "output_type": "stream",
     "text": [
      "24.16724626646939\n"
     ]
    }
   ],
   "source": [
    "Y_test_hat = compute_Y_test_hat()\n",
    "RMSE = ((((Y_test_hat - Y_test)**2).sum())/len(Y_test))**0.5\n",
    "print(RMSE)"
   ]
  },
  {
   "cell_type": "code",
   "execution_count": null,
   "metadata": {},
   "outputs": [],
   "source": []
  }
 ],
 "metadata": {
  "kernelspec": {
   "display_name": "Python 3",
   "language": "python",
   "name": "python3"
  },
  "language_info": {
   "codemirror_mode": {
    "name": "ipython",
    "version": 3
   },
   "file_extension": ".py",
   "mimetype": "text/x-python",
   "name": "python",
   "nbconvert_exporter": "python",
   "pygments_lexer": "ipython3",
   "version": "3.6.6"
  }
 },
 "nbformat": 4,
 "nbformat_minor": 2
}
