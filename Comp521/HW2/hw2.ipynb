{
 "cells": [
  {
   "cell_type": "code",
   "execution_count": 10,
   "metadata": {},
   "outputs": [],
   "source": [
    "import pandas as pd\n",
    "import numpy as np\n",
    "import matplotlib.pyplot as plt\n",
    "np.random.seed(521)"
   ]
  },
  {
   "cell_type": "code",
   "execution_count": 11,
   "metadata": {},
   "outputs": [],
   "source": [
    "def sigmoid(inp,deriv=False):\n",
    "    fx = 1.0/(1+np.exp(-inp))\n",
    "    if deriv == True:\n",
    "        return fx*(1-fx)\n",
    "    else:\n",
    "        return fx"
   ]
  },
  {
   "cell_type": "code",
   "execution_count": 12,
   "metadata": {},
   "outputs": [],
   "source": [
    "def create_data():\n",
    "    X = pd.read_csv(\"hw02_data_set_images.csv\",header=None).values\n",
    "    _Y = pd.read_csv(\"hw02_data_set_labels.csv\",header=None).values\n",
    "    Y = np.zeros((_Y.shape[0],5))\n",
    "    for k in range(_Y.shape[0]):\n",
    "        if _Y[k] == \"A\":\n",
    "            Y[k,0] = 1\n",
    "        if _Y[k] == \"B\":\n",
    "            Y[k,1] = 1\n",
    "        if _Y[k] == \"C\":\n",
    "            Y[k,2] = 1\n",
    "        if _Y[k] == \"D\":\n",
    "            Y[k,3] = 1\n",
    "        if _Y[k] == \"E\":\n",
    "            Y[k,4] = 1\n",
    "            \n",
    "    return X,Y"
   ]
  },
  {
   "cell_type": "code",
   "execution_count": 13,
   "metadata": {},
   "outputs": [],
   "source": [
    "def split_data(X,Y):\n",
    "    Y_train = np.r_[Y[0:25,:],Y[39:64,:],Y[78:103,:],Y[117:142,:],Y[156:181,:]]\n",
    "    Y_test = np.r_[Y[25:39,:],Y[64:78,:],Y[103:117,:],Y[142:156,:],Y[181:195,:]]\n",
    "    X_train = np.r_[X[0:25,:],X[39:64,:],X[78:103,:],X[117:142,:],X[156:181,:]]\n",
    "    X_test = np.r_[X[25:39,:],X[64:78,:],X[103:117,:],X[142:156,:],X[181:195,:]]\n",
    "    return X_train,X_test,Y_train,Y_test"
   ]
  },
  {
   "cell_type": "code",
   "execution_count": 14,
   "metadata": {},
   "outputs": [],
   "source": [
    "def initialize_parameters(X,Y):\n",
    "    W = np.random.uniform(low=-0.01,high=0.0,size=(X.shape[1],Y.shape[1]))\n",
    "    W0 = np.random.uniform(low=-0.01,high=0.0,size=(Y.shape[1]))\n",
    "    return W,W0"
   ]
  },
  {
   "cell_type": "code",
   "execution_count": 15,
   "metadata": {},
   "outputs": [],
   "source": [
    "def forward(X,W,W0):\n",
    "    s_out = X.dot(W) + W0\n",
    "    Y_pred = sigmoid(s_out)\n",
    "    return s_out,Y_pred\n",
    "    "
   ]
  },
  {
   "cell_type": "code",
   "execution_count": 16,
   "metadata": {},
   "outputs": [],
   "source": [
    "def loss_and_grad(s_out,Y_pred,Y,X):\n",
    "    loss = (((Y_pred-Y)**2)/2).sum()\n",
    "    \n",
    "    d_loss = Y_pred-Y\n",
    "    \n",
    "    l_out_error = d_loss*sigmoid(s_out,deriv=True)\n",
    "    \n",
    "    W_delta = (X.T).dot(l_out_error)\n",
    "    W0_delta = l_out_error.sum()\n",
    "    \n",
    "    return loss,W_delta,W0_delta"
   ]
  },
  {
   "cell_type": "code",
   "execution_count": 24,
   "metadata": {},
   "outputs": [],
   "source": [
    "def train(X_train,Y_train):\n",
    "    \n",
    "    W,W0 = initialize_parameters(X_train,Y_train)\n",
    "\n",
    "    \n",
    "    eta = 1.e-2\n",
    "    epsilon = 1.e-3\n",
    "    \n",
    "    loss_list = []\n",
    "    epoch_list = []\n",
    "    \n",
    "    epoch = 0\n",
    "    \n",
    "    while(True):\n",
    "            \n",
    "        W_old = W.copy()\n",
    "        W0_old = W0.copy()\n",
    "        \n",
    "        s_out,Y_pred = forward(X_train,W,W0)\n",
    "        \n",
    "        loss,W_delta,W0_delta = loss_and_grad(s_out,Y_pred,Y_train,X_train)\n",
    "        W -= eta*W_delta\n",
    "        W0 -= eta*W0_delta\n",
    "        \n",
    "        loss_list.append(loss)\n",
    "        epoch_list.append(epoch)\n",
    "        \n",
    "        epoch += 1\n",
    "        \n",
    "        if (((W0 - W0_old)**2).sum() + ((W - W_old)**2).sum())**0.5 < epsilon:\n",
    "            break\n",
    "\n",
    "    \n",
    "    return loss_list,epoch_list,W,W0\n",
    "        "
   ]
  },
  {
   "cell_type": "code",
   "execution_count": 25,
   "metadata": {},
   "outputs": [],
   "source": [
    "def conf_m(expected, predicted, n_classes=5):\n",
    "    m = np.zeros((n_classes,n_classes))\n",
    "    for pred, exp in zip(predicted, expected):\n",
    "        m[pred][exp] += 1\n",
    "    return m"
   ]
  },
  {
   "cell_type": "code",
   "execution_count": 32,
   "metadata": {},
   "outputs": [],
   "source": [
    "def create_conf_matrix(X_train,Y_train,X_test,Y_test,W,W0):\n",
    "    _,Y_pred_train = forward(X_train,W,W0)\n",
    "    _,Y_pred_test = forward(X_test,W,W0)\n",
    "    \n",
    "    Y_pred_train = Y_pred_train.argmax(1)\n",
    "    Y_pred_test = Y_pred_test.argmax(1)\n",
    "    \n",
    "    Y_expected_train = Y_train.argmax(1)\n",
    "    Y_expected_test = Y_test.argmax(1)\n",
    "    \n",
    "    \n",
    "    train_conf_matrix = conf_m(Y_expected_train,Y_pred_train)\n",
    "    test_conf_matrix = conf_m(Y_expected_test,Y_pred_test)\n",
    "    \n",
    "    return train_conf_matrix,test_conf_matrix"
   ]
  },
  {
   "cell_type": "code",
   "execution_count": 33,
   "metadata": {},
   "outputs": [
    {
     "data": {
      "image/png": "[encoded data removed]",
      "text/plain": [
       "<Figure size 432x288 with 1 Axes>"
      ]
     },
     "metadata": {
      "needs_background": "light"
     },
     "output_type": "display_data"
    }
   ],
   "source": [
    "\n",
    "X,Y = create_data()\n",
    "X_train,X_test,Y_train,Y_test = split_data(X,Y)\n",
    "loss_list,epoch_list,W,W0 = train(X_train,Y_train)\n",
    "\n",
    "\n",
    "train_conf_matrix,test_conf_matrix = create_conf_matrix(X_train,Y_train,X_test,Y_test,W,W0)\n",
    "\n",
    "plt.plot(epoch_list,loss_list)\n",
    "plt.grid()\n",
    "plt.xlabel(\"iterations\")\n",
    "plt.ylabel(\"MSE loss\")\n",
    "plt.show()"
   ]
  },
  {
   "cell_type": "code",
   "execution_count": 35,
   "metadata": {},
   "outputs": [
    {
     "data": {
      "text/plain": [
       "array([[13.,  1.,  0.,  0.,  0.],\n",
       "       [ 1., 11.,  0.,  0.,  2.],\n",
       "       [ 0.,  0., 14.,  0.,  0.],\n",
       "       [ 0.,  1.,  0., 14.,  0.],\n",
       "       [ 0.,  1.,  0.,  0., 12.]])"
      ]
     },
     "execution_count": 35,
     "metadata": {},
     "output_type": "execute_result"
    }
   ],
   "source": [
    "test_conf_matrix"
   ]
  },
  {
   "cell_type": "code",
   "execution_count": null,
   "metadata": {},
   "outputs": [],
   "source": []
  }
 ],
 "metadata": {
  "kernelspec": {
   "display_name": "Python 3",
   "language": "python",
   "name": "python3"
  },
  "language_info": {
   "codemirror_mode": {
    "name": "ipython",
    "version": 3
   },
   "file_extension": ".py",
   "mimetype": "text/x-python",
   "name": "python",
   "nbconvert_exporter": "python",
   "pygments_lexer": "ipython3",
   "version": "3.6.6"
  }
 },
 "nbformat": 4,
 "nbformat_minor": 2
}
